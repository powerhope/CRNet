{
 "cells": [
  {
   "cell_type": "code",
   "execution_count": 56,
   "metadata": {},
   "outputs": [
    {
     "data": {
      "image/png": "[encoded data removed]",
      "text/plain": [
       "<Figure size 432x288 with 1 Axes>"
      ]
     },
     "metadata": {
      "needs_background": "light"
     },
     "output_type": "display_data"
    }
   ],
   "source": [
    "import matplotlib.pyplot as plt\n",
    "from matplotlib.pyplot import MultipleLocator\n",
    "\n",
    "input1 = open('8up.log', 'r')\n",
    "input2 = open('4+2+1up.log', 'r')\n",
    "input3 = open('4+2up.log', 'r')\n",
    "\n",
    "loss_data1 = []\n",
    "miou_data1 = []\n",
    "loss_data2 = []\n",
    "miou_data2 = []\n",
    "loss_data3 = []\n",
    "miou_data3 = []\n",
    "\n",
    "for line in input1:\n",
    "#     line = line.split()\n",
    "#     print(line)\n",
    "    if 'loss: ' in line:\n",
    "        line = line.split(' loss: ')\n",
    "        loss_data1.append(float(line[1][0:6]))\n",
    "    if('mIOU75 is: 'in line):\n",
    "        line1 = line.split('mIOU75 is: ')\n",
    "#         print(line1)\n",
    "        miou_data1.append(float(line1[1][0:9]))\n",
    "\n",
    "for line in input2:\n",
    "#     line = line.split()\n",
    "#     print(line)\n",
    "    if 'loss: ' in line:\n",
    "        line = line.split(' loss: ')\n",
    "        loss_data2.append(float(line[1][0:6]))\n",
    "    if('mIOU75 is: 'in line):\n",
    "        line1 = line.split('mIOU75 is: ')\n",
    "#         print(line1)\n",
    "        miou_data2.append(float(line1[1][0:9]))\n",
    "\n",
    "\n",
    "for line in input3:\n",
    "#     line = line.split()\n",
    "#     print(line)\n",
    "    if 'loss: ' in line:\n",
    "        line = line.split(' loss: ')\n",
    "        loss_data3.append(float(line[1][0:6]))\n",
    "    if('mIOU75 is: 'in line):\n",
    "        line1 = line.split('mIOU75 is: ')\n",
    "#         print(line1)\n",
    "        miou_data3.append(float(line1[1][0:9]))\n",
    "\n",
    "# with open('8up.txt', 'w') as f:\n",
    "#     for i in range(len(loss_data1)):\n",
    "#         f.write(str(loss_data1[i])+\"\\r\")\n",
    "# with open('4+2+1up.txt', 'w') as f:\n",
    "#     for i in range(len(loss_data2)):\n",
    "#         f.write(str(loss_data2[i])+\"\\r\")\n",
    "# with open('4+2up.txt', 'w') as f:\n",
    "#     for i in range(len(loss_data3)):\n",
    "#         f.write(str(loss_data3[i])+\"\\r\")\n",
    "\n",
    "\n",
    "\n",
    "\n",
    "# with open('8up_acc.txt', 'w') as f:\n",
    "#     for i in range(len(miou_data1)):\n",
    "#         f.write(str(miou_data1[i])+\"\\r\")\n",
    "# with open('4+2+1up_acc.txt', 'w') as f:\n",
    "#     for i in range(len(miou_data2)):\n",
    "#         f.write(str(miou_data2[i])+\"\\r\")\n",
    "# with open('4+2up_acc.txt', 'w') as f:\n",
    "#     for i in range(len(miou_data3)):\n",
    "#         f.write(str(miou_data3[i])+\"\\r\")\n",
    "# print(data)\n",
    "# for line1 in input:\n",
    "#     if 'mIOU75 is: ' in line1:\n",
    "#         line1 = line1.split('mIOU75 is: ')\n",
    "#         miou_data.append(line1[1][0:7])\n",
    "# print(miou_data)\n",
    "\n",
    "plt.plot(loss_data1,color='red')\n",
    "plt.plot(loss_data2,color='green')\n",
    "plt.plot(loss_data3,color='blue')\n",
    "\n",
    "x_major_locator=MultipleLocator(200)\n",
    "y_major_locator=MultipleLocator(0.5)\n",
    "ax=plt.gca()\n",
    "ax.xaxis.set_major_locator(x_major_locator)\n",
    "ax.yaxis.set_major_locator(y_major_locator)\n",
    "plt.xlim(0,1200)\n",
    "plt.ylim(0,12)\n",
    "\n",
    "plt.savefig('loss.jpg',dpi=400)\n",
    "plt.show()"
   ]
  },
  {
   "cell_type": "code",
   "execution_count": null,
   "metadata": {},
   "outputs": [],
   "source": []
  }
 ],
 "metadata": {
  "kernelspec": {
   "display_name": "Python 3",
   "language": "python",
   "name": "python3"
  },
  "language_info": {
   "codemirror_mode": {
    "name": "ipython",
    "version": 3
   },
   "file_extension": ".py",
   "mimetype": "text/x-python",
   "name": "python",
   "nbconvert_exporter": "python",
   "pygments_lexer": "ipython3",
   "version": "3.6.8"
  }
 },
 "nbformat": 4,
 "nbformat_minor": 4
}
